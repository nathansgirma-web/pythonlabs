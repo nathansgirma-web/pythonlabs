{
 "cells": [
  {
   "cell_type": "markdown",
   "id": "cef4f31e-3d0f-4f36-ad70-a24afc359d21",
   "metadata": {},
   "source": [
    "# Lab 1 - Instructions\n",
    "**Basics of numpy and matplotlib**<br>\n",
    "Software 1 - Mathematics<br>\n",
    "Information and Communication Technology<br>\n",
    "Metropolia University of Applied Sciences\n",
    "\n",
    "## Introduction\n",
    "\n",
    "The aim of these first Python exercises is to get familiar with the basics of the numerical python and matplotlib graphics libraries.\n",
    "\n",
    "First, please use [Moodle Quiz Lab 1](https://moodle.metropolia.fi/course/view.php?id=1960) to learn the basics of creating numerical arrays and creating functions. Notice, Moodle problems are designed to be solved in order. The next problem is build on the topics learnt in the previous tasks.\n",
    "\n",
    "When you have completed all of them, then you are ready to go for the home assignments. They can be found in this Notebook.\n",
    "\n",
    "Most important official documents to review:\n",
    "- [Numpy array creation](https://numpy.org/doc/1.23/user/basics.creation.html)\n",
    "- [A simple example of matplotlib](https://matplotlib.org/stable/tutorials/introductory/usage.html#a-simple-example)\n",
    "- [Intro to pyplot](https://matplotlib.org/stable/tutorials/introductory/pyplot.html#sphx-glr-tutorials-introductory-pyplot-py)\n",
    "- [Basic usage of matplotlib](https://matplotlib.org/stable/tutorials/introductory/usage.html#sphx-glr-tutorials-introductory-usage-py)\n",
    "\n"
   ]
  },
  {
   "cell_type": "markdown",
   "id": "e4f12ef7-db3f-4e97-870d-94e9bc573e91",
   "metadata": {},
   "source": [
    "## Setup\n",
    "\n",
    "First change the variables for:\n",
    "- `name` is your name, give it as string\n",
    "- `student_id` is your student number, it should be integer\n",
    "- `date_returned`is the date when you solved these problem, it is a string\n",
    "\n",
    "Then import necessary libraries. We use `numpy` for numerical calculations, `matplotlib` for the graphics, and `labx` contains functions that are used in these exercises.\n",
    "\n",
    "- **Download the module `labx.pyc` from OMA assignment to the same folder where your Notebooks are!** \n",
    "- **You need to import the setup libraries only once in the Notebook.**"
   ]
  },
  {
   "cell_type": "markdown",
   "id": "7c16952b-6bcc-4345-ad2f-7244792dfd17",
   "metadata": {},
   "source": [
    "---\n",
    "## Problem 1\n",
    "\n",
    "In the first problem your aim is to draw a given function. The function is in the\n",
    "`labx` module that you imported. You can call the function with the following code:\n",
    "\n",
    "`y = mx.lab_1_problem_1(x, student_id)`\n",
    "\n",
    "where\n",
    "- `x` is a numerical array containing values for x\n",
    "- `student_id` is your student number you defined above\n",
    "- `y` is the output of the function, it is a numerical array\n",
    "\n",
    "Each of you get slightly different output values, so be careful, when you collaborate with your classmates!\n",
    "\n",
    "First, write a code that creates a numerical array $x \\in [-10, 10]$ with step size of $0.001$. Then, calculate the values for y. When you have created both `x` and `y`, make a graphical plot of the output values of the function.\n",
    "\n",
    "Remember to decorate the graphics by adding title, xlabel, ylabel, and grid-lines.\n"
   ]
  },
  {
   "cell_type": "markdown",
   "id": "57a50006-3c75-4437-94a0-b74dd4dd97a7",
   "metadata": {},
   "source": [
    "## Problem 2\n",
    "\n",
    "Next, your aim is to find *graphically* [the roots (zeroes) for the function](https://simple.wikipedia.org/wiki/Root_of_a_function). A root of a function is found, when `f(x) = 0`, e.g. when the value of the function is zero. So, create another code where you zoom in to the graph of the function until you find the values for x, when `f(x) = 0`.\n",
    "\n",
    "Use `matplotlib`-library's `xlim` and `ylim` functions to zoom in to the graph. Iterate and try different values for axes limits until you have found the roots with *two decimals accuracy*. Search more help from `matplotlib.pyplot` documentation.\n",
    "\n",
    "Note: Don't repeate the code for creating `x` and `y`. They are in the Notebook's memory. Just write the code for the zoomed graphics."
   ]
  },
  {
   "cell_type": "markdown",
   "id": "e71e4ed5-9b63-4004-ab1f-0eaca6541f73",
   "metadata": {},
   "source": [
    "---\n",
    "The problems below this line are extra problems. You don't need to return them. They are for you for fun and practise more.\n",
    "\n",
    "\n",
    "## Problem 3 (extra)\n",
    "\n",
    "\n",
    "Now as you have learnt the basics of graphical root finding, you can try to find the roots of the second function:\n",
    "\n",
    "`y3 = mx.lab_1_problem_3(x, student_id)`"
   ]
  },
  {
   "cell_type": "markdown",
   "id": "c172d58f-ba4f-4c5a-a48f-76c7b4ccbf55",
   "metadata": {},
   "source": [
    "## Problem 4 (extra)\n",
    "\n",
    "Where do these two functions (see previous problems) cross each other, e.g. when they have same values?\n",
    "\n",
    "Can you solve this graphically?"
   ]
  }
 ],
 "metadata": {
  "kernelspec": {
   "display_name": "Python 3",
   "language": "python",
   "name": "python3"
  },
  "language_info": {
   "codemirror_mode": {
    "name": "ipython",
    "version": 3
   },
   "file_extension": ".py",
   "mimetype": "text/x-python",
   "name": "python",
   "nbconvert_exporter": "python",
   "pygments_lexer": "ipython3",
   "version": "3.11.9"
  }
 },
 "nbformat": 4,
 "nbformat_minor": 5
}
